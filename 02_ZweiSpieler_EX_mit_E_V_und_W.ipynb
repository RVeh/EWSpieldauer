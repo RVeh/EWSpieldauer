{
 "cells": [
  {
   "cell_type": "markdown",
   "id": "c69d0e56-0cd4-4b00-b0b0-26306b86ba61",
   "metadata": {},
   "source": [
    "# 🤝 Zwei Strategien im Vergleich: $\\mathbb{E}(V)$, $\\mathbb{E}(W)$ und $\\mathbb{E}(V, W)$\n",
    "\n",
    "In diesem Notebook vergleichen wir zwei Chipverteilungen $V$ und $W$ miteinander:\n",
    "\n",
    "- $\\mathbb{E}(V)$: Erwartete Dauer, wenn Spieler 1 mit Strategie $V$ alleine spielt\n",
    "- $\\mathbb{E}(W)$: Erwartete Dauer für Spieler 2 mit Strategie $W$\n",
    "- $\\mathbb{E}(V, W)$: Erwartete Dauer im Zwei-Spieler-Spiel mit den Strategien $V$ und $W$\n",
    "\n",
    "---\n",
    "\n",
    "## 🔍 Ziel\n",
    "\n",
    "- Verständnis der rekursiven Zwei-Spieler-Berechnung\n",
    "- Vergleich zwischen Einzelstrategien und Zusammenspiel\n",
    "- Analyse, wie sich beide Spieler in ihrer Wirkung überlappen oder ergänzen\n",
    "\n",
    "---\n",
    "\n",
    "## ⚠️ Hinweis\n",
    "\n",
    "Wenn $V = W$, gilt $\\mathbb{E}(V, W) = 0$, da das Spiel dann sofort endet (Abbruchbedingung in der Rekursion).\n",
    "\n",
    "---\n",
    "\n",
    "## 🚀 Start\n",
    "\n",
    "In der nächsten Zelle steht das zugehörige Programm.\n",
    "\n",
    "> 🔄 **Bitte führen Sie alle Zellen einmal aus**, damit alle Werte korrekt angezeigt werden:\n",
    ">\n",
    "> - Menü: `Run` → `Run All Cells`\n",
    "> - oder: Klicken Sie auf das ▶️-Symbol oben, falls die nächste Zelle ausgewählt wurde.\n",
    "\n",
    "---"
   ]
  },
  {
   "cell_type": "code",
   "execution_count": 1,
   "id": "69e5310c-7ebf-4bfc-962d-b4282e6897bd",
   "metadata": {},
   "outputs": [
    {
     "name": "stdout",
     "output_type": "stream",
     "text": [
      "E((3, 2, 1))           = 596291/60000 ≈ 9.93818\n",
      "E((4, 2, 0))           = 29374/3125 ≈ 9.39968\n",
      "\n",
      "E((3, 2, 1),(4, 2, 0)) = 8868079/1200000 ≈ 7.39007\n"
     ]
    }
   ],
   "source": [
    "from chipspiel_utils import E_one, E_two\n",
    "from fractions import Fraction\n",
    "\n",
    "# Eingabe\n",
    "V = (3, 2, 1)\n",
    "W = (4, 2, 0)\n",
    "p = (Fraction(1, 2), Fraction(1, 3), Fraction(1, 6))\n",
    "\n",
    "# Berechnungen\n",
    "EV_exact =  E_one(V, p)\n",
    "EW_exact =  E_one(W, p)\n",
    "EVW_exact = E_two(V,W, p)\n",
    "\n",
    "# Ausgabe\n",
    "print(f\"E({V})           = {EV_exact} ≈ {float(EV_exact):.5f}\")\n",
    "print(f\"E({W})           = {EW_exact} ≈ {float(EW_exact):.5f}\")\n",
    "print(f\"\\nE({V},{W}) = {EVW_exact} ≈ {float(EVW_exact):.5f}\")\n",
    "\n",
    "if sum(p) != 1:\n",
    "    print(\"⚠️  Wahrscheinlichkeiten summieren sich nicht zu 1.\")"
   ]
  },
  {
   "cell_type": "code",
   "execution_count": null,
   "id": "af2f28f8-9b6c-414b-a732-ce59f970571b",
   "metadata": {},
   "outputs": [],
   "source": []
  }
 ],
 "metadata": {
  "kernelspec": {
   "display_name": "Python 3 (ipykernel)",
   "language": "python",
   "name": "python3"
  },
  "language_info": {
   "codemirror_mode": {
    "name": "ipython",
    "version": 3
   },
   "file_extension": ".py",
   "mimetype": "text/x-python",
   "name": "python",
   "nbconvert_exporter": "python",
   "pygments_lexer": "ipython3",
   "version": "3.9.7"
  }
 },
 "nbformat": 4,
 "nbformat_minor": 5
}
