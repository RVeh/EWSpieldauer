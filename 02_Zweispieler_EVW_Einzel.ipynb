{
 "cells": [
  {
   "cell_type": "markdown",
   "id": "ccfd9504-66b5-487b-b648-93607ecd61cb",
   "metadata": {},
   "source": [
    "## ⚔️ Zwei Spieler mit Strategien $V$ und $W$: Erwartete Spieldauer $E(V, W)$\n",
    "\n",
    "In dieser Variante spielen zwei Personen gegeneinander. Jede Person verteilt $n$ Chips auf $m$ Felder:\n",
    "\n",
    "- Spieler A wählt eine Verteilung $V = (v_1, \\dots, v_m)$\n",
    "- Spieler B wählt eine Verteilung $W = (w_1, \\dots, w_m)$\n",
    "\n",
    "Ein Wurf trifft Feld $j$ mit Wahrscheinlichkeit $p_j$.\n",
    "Falls auf diesem Feld bei einem der Spieler ein Chip liegt, wird **ein Chip entfernt** – ggf. bei beiden Spielern gleichzeitig.\n",
    "\n",
    "---\n",
    "\n",
    "### 🛑 Abbruchbedingungen:\n",
    "\n",
    "Das Spiel endet, sobald eine dieser Situationen eintritt:\n",
    "\n",
    "- $V = W$ (z. B. durch Symmetrie oder Restgleichheit)\n",
    "- $\\sum_j v_j = 0$ (Spieler A hat keine Chips mehr)\n",
    "- $\\sum_j w_j = 0$ (Spieler B hat keine Chips mehr)\n",
    "\n",
    "Dann gilt:\n",
    "\n",
    "$$\n",
    "E(V, W) = 0\n",
    "$$\n",
    "\n",
    "---\n",
    "\n",
    "### 🔁 Rekursive Formel:\n",
    "\n",
    "Für alle anderen Fälle wird rekursiv gerechnet:\n",
    "\n",
    "$$\n",
    "E(V, W) = \\frac{1}{s} + \\frac{1}{s}\\sum_{j=1}^m q_j \\cdot E(V - \\delta_j^V, W - \\delta_j^W)\n",
    "$$\n",
    "\n",
    "mit:\n",
    "\n",
    "- $q_j := p_j \\cdot \\mathbf{1}_{\\{v_j > 0 \\lor w_j > 0\\}}$\n",
    "- $s := \\sum_{j=1}^m q_j$ ist die Gesamtwahrscheinlichkeit, dass ein Wurf überhaupt etwas bewirkt.\n",
    "\n",
    "- $\\delta_j^V = e_j$ falls $v_j > 0$, sonst $0$\n",
    "- $\\delta_j^W = e_j$ falls $w_j > 0$, sonst $0$\n",
    "\n",
    "---\n",
    "\n",
    "### 🧠 Bedeutung:\n",
    "\n",
    "- Der Ausdruck zählt, wie viele Würfe **im Durchschnitt nötig** sind, bis das Spiel (unter den genannten Bedingungen) endet.\n",
    "- Die Formel berücksichtigt nur Felder, auf denen bei mindestens einem Spieler Chips liegen – sonst wirkt ein Wurf nicht.\n",
    "\n",
    "Dies bildet den realen Spielverlauf exakt ab und liefert einen **bedingten Erwartungswert** über alle möglichen Wirkungen des nächsten Wurfs.\n"
   ]
  },
  {
   "cell_type": "markdown",
   "id": "eb7aec84-a918-4270-92d1-53272d2912e5",
   "metadata": {},
   "source": [
    "---\n",
    "## Programm für E(V,W) ##\n",
    "---"
   ]
  },
  {
   "cell_type": "code",
   "execution_count": 13,
   "id": "f327dda5-0a41-4752-9b2a-d6b5cfcd203e",
   "metadata": {},
   "outputs": [],
   "source": [
    "from fractions import Fraction\n",
    "from functools import lru_cache\n",
    "\n",
    "@lru_cache(maxsize=None)\n",
    "def expected_duel(V, W, p):\n",
    "    # Abbruchbedingungen: einer leer oder V = W\n",
    "    if V == W or all(v == 0 for v in V) or all(w == 0 for w in W):\n",
    "        return Fraction(0)\n",
    "    \n",
    "    total = Fraction(0)\n",
    "    s = Fraction(0)\n",
    "    \n",
    "    for j in range(len(p)):\n",
    "        vj, wj = V[j], W[j]\n",
    "        if vj > 0 or wj > 0:\n",
    "            qj = p[j]\n",
    "            \n",
    "            # Neues V\n",
    "            new_V = list(V)\n",
    "            if vj > 0:\n",
    "                new_V[j] -= 1\n",
    "            \n",
    "            # Neues W\n",
    "            new_W = list(W)\n",
    "            if wj > 0:\n",
    "                new_W[j] -= 1\n",
    "            \n",
    "            total += qj * expected_duel(tuple(new_V), tuple(new_W), p)\n",
    "            s += qj\n",
    "\n",
    "    return (1 + total) / s\n"
   ]
  },
  {
   "cell_type": "markdown",
   "id": "d20b3fec-cd94-4146-8a77-19ff19352fa2",
   "metadata": {},
   "source": [
    "---\n",
    "\n",
    "# Eingabe #\n",
    "\n",
    "---"
   ]
  },
  {
   "cell_type": "code",
   "execution_count": 15,
   "id": "0174f5ff-61a6-4d2d-8552-5eb83721bca2",
   "metadata": {},
   "outputs": [
    {
     "name": "stdin",
     "output_type": "stream",
     "text": [
      "Anzahl der Fächer (z. B. 3):  3\n"
     ]
    },
    {
     "name": "stdout",
     "output_type": "stream",
     "text": [
      "Gib 3 Wahrscheinlichkeiten als Brüche ein (z. B. 1/2):\n"
     ]
    },
    {
     "name": "stdin",
     "output_type": "stream",
     "text": [
      "p_1 =  172\n",
      "p_2 =  1/3\n",
      "p_3 =  1/6\n"
     ]
    },
    {
     "name": "stdout",
     "output_type": "stream",
     "text": [
      "Gib 3 Zahlen für Verteilung V (Spieler A):\n"
     ]
    },
    {
     "name": "stdin",
     "output_type": "stream",
     "text": [
      "V =  3 2 1\n"
     ]
    },
    {
     "name": "stdout",
     "output_type": "stream",
     "text": [
      "Gib 3 Zahlen für Verteilung W (Spieler B):\n"
     ]
    },
    {
     "name": "stdin",
     "output_type": "stream",
     "text": [
      "W =  4 2 0\n"
     ]
    },
    {
     "name": "stdout",
     "output_type": "stream",
     "text": [
      "\n",
      "Erwartete Spieldauer E((3, 2, 1), (4, 2, 0)) = 353578057585324135454857529864563237109333/614907909166806869255730876933251865000 ≈ 575.00977\n"
     ]
    }
   ],
   "source": [
    "from fractions import Fraction\n",
    "\n",
    "# Eingaben\n",
    "m = int(input(\"Anzahl der Fächer (z. B. 3): \"))\n",
    "\n",
    "print(f\"Gib {m} Wahrscheinlichkeiten als Brüche ein (z. B. 1/2):\")\n",
    "p = [Fraction(input(f\"p_{i+1} = \")) for i in range(m)]\n",
    "\n",
    "# Normalisierung\n",
    "if sum(p) != 1:\n",
    "    p = [x / sum(p) for x in p]\n",
    "\n",
    "print(f\"Gib {m} Zahlen für Verteilung V (Spieler A):\")\n",
    "V = tuple(map(int, input(\"V = \").split()))\n",
    "\n",
    "print(f\"Gib {m} Zahlen für Verteilung W (Spieler B):\")\n",
    "W = tuple(map(int, input(\"W = \").split()))\n",
    "\n",
    "# Berechnung\n",
    "evw = expected_duel(V, W, tuple(p))\n",
    "print(f\"\\nErwartete Spieldauer E({V}, {W}) = {evw} ≈ {float(evw):.5f}\")\n"
   ]
  },
  {
   "cell_type": "code",
   "execution_count": null,
   "id": "3c7d5cde-1edb-4e0f-89d2-e495db1b7375",
   "metadata": {},
   "outputs": [],
   "source": []
  }
 ],
 "metadata": {
  "kernelspec": {
   "display_name": "Python 3 (ipykernel)",
   "language": "python",
   "name": "python3"
  },
  "language_info": {
   "codemirror_mode": {
    "name": "ipython",
    "version": 3
   },
   "file_extension": ".py",
   "mimetype": "text/x-python",
   "name": "python",
   "nbconvert_exporter": "python",
   "pygments_lexer": "ipython3",
   "version": "3.9.7"
  }
 },
 "nbformat": 4,
 "nbformat_minor": 5
}
