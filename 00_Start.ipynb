{
 "cells": [
  {
   "cell_type": "markdown",
   "id": "072347da-381b-4152-bf88-a6508a6caf64",
   "metadata": {},
   "source": [
    "# 🎲 Erwartungswerte bei Chipspielen – Start\n",
    "\n",
    "Wähle ein Thema aus den folgenden Bereichen:\n",
    "\n",
    "---\n",
    "\n",
    "## 🔹 1. Einzelspieler\n",
    "\n",
    "Berechne Erwartungswerte $E(V)$, wenn ein Spieler allein Chips abräumen möchte.\n",
    "\n",
    "- ▶ [Einzelverteilung E(V)](01_Einspieler_Einzelwert.ipynb)\n",
    "- ▶ [Alle Verteilungen mit n Chips](01_Einspieler_AlleVerteilungen.ipynb)\n",
    "\n",
    "---\n",
    "\n",
    "## 🔹 2. Zwei Spieler\n",
    "\n",
    "Zwei Personen spielen mit unterschiedlichen Strategien gegeneinander.\n",
    "\n",
    "- ▶ [Ein Duell E(V, W)](02_Zweispieler_EVW_Einzel.ipynb)\n",
    "- ▶ [Feste Strategie V gegen alle W](02_Zweispieler_V_gegen_alle.ipynb)\n",
    "\n",
    "---\n",
    "\n",
    "> Du kannst jedes Notebook einzeln starten oder dieses Menü als Ausgangspunkt verwenden.\n"
   ]
  },
  {
   "cell_type": "code",
   "execution_count": null,
   "id": "329d3808-0738-4ca6-a2c1-e3ee59d23e5f",
   "metadata": {},
   "outputs": [],
   "source": []
  }
 ],
 "metadata": {
  "kernelspec": {
   "display_name": "Python 3 (ipykernel)",
   "language": "python",
   "name": "python3"
  },
  "language_info": {
   "codemirror_mode": {
    "name": "ipython",
    "version": 3
   },
   "file_extension": ".py",
   "mimetype": "text/x-python",
   "name": "python",
   "nbconvert_exporter": "python",
   "pygments_lexer": "ipython3",
   "version": "3.9.7"
  }
 },
 "nbformat": 4,
 "nbformat_minor": 5
}
