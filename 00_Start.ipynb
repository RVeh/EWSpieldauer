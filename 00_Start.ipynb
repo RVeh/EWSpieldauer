{
 "cells": [
  {
   "cell_type": "markdown",
   "id": "609d027a-c4b5-4ed1-b613-20521b26f761",
   "metadata": {},
   "source": [
    "# 🧠 Einstieg: Setzstrategien und exakte Erwartungswerte\n",
    "\n",
    "Willkommen im interaktiven Projekt zur Analyse von Chip-Verteilstrategien!  \n",
    "Hier kannst du mit Hilfe von Python und mathematisch fundierten Funktionen:\n",
    "\n",
    "- Erwartungswerte einzelner Spielverläufe berechnen\n",
    "- alle möglichen Strategien systematisch vergleichen\n",
    "- grafisch auswerten (2D & 3D)\n",
    "- Grundlagen & Herleitungen nachlesen\n",
    "\n",
    "---\n",
    "\n",
    "## 🧭 Themenübersicht\n",
    "\n",
    "Wähle ein Thema aus, um direkt loszulegen:\n",
    "\n",
    "### 🎯 Einspieler\n",
    "\n",
    "- [📍 Erwartungswert für eine Strategie $V$](01_EinSpieler_EX.ipynb)  \n",
    "  → Berechnet $E(V)$ für eine konkrete Chipverteilung\n",
    "\n",
    "- [📊 Alle Strategien $V$ mit fester Chipsumme $n$](01_EinSpieler_Alle_Verteilungen.ipynb)  \n",
    "  → Ausgabe als Tabelle, Plot und CSV-Datei\n",
    "\n",
    "- [🌐 3D-Darstellung der Erwartungswerte (für $m = 3$)](01_EinSpieler_3D.ipynb)  \n",
    "  → Visualisiert $E(V)$ für alle gültigen Verteilungen als Fläche\n",
    "\n",
    "---\n",
    "\n",
    "### 🤝 Zwei-Spieler-Situationen\n",
    "\n",
    "- [🔗 Vergleich $E(V)$, $E(W)$ und $E(V,W)$](02_ZweiSpieler_EX_mit_E_V_und_W.ipynb)  \n",
    "  → Ein kompakter Vergleich zweier Strategien\n",
    "\n",
    "- [⚔️ Eine Strategie $V$ gegen alle möglichen Gegnerstrategien $W$](02_ZweiSpieler_V_gegen_alle.ipynb)  \n",
    "  → Tabelle aller $E(V,W)$, optional Extremwerte\n",
    "\n",
    "---\n",
    "\n",
    "\n",
    "## 🔧 Weitere Hinweise\n",
    "\n",
    "- Alle zentralen Funktionen findest du in der Datei:  \n",
    "  `chipspiel_utils.py`\n",
    "- Jedes Notebook kann unabhängig gestartet werden.\n",
    "\n",
    "Viel Freude beim Experimentieren mit Strategie, Mathematik und Code!\n"
   ]
  }
 ],
 "metadata": {
  "kernelspec": {
   "display_name": "Python 3 (ipykernel)",
   "language": "python",
   "name": "python3"
  },
  "language_info": {
   "codemirror_mode": {
    "name": "ipython",
    "version": 3
   },
   "file_extension": ".py",
   "mimetype": "text/x-python",
   "name": "python",
   "nbconvert_exporter": "python",
   "pygments_lexer": "ipython3",
   "version": "3.9.7"
  }
 },
 "nbformat": 4,
 "nbformat_minor": 5
}
