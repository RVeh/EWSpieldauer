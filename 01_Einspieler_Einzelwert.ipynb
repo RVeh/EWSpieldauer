{
 "cells": [
  {
   "cell_type": "markdown",
   "id": "c77eee47-45c0-4519-8dca-3931fdf7e62c",
   "metadata": {},
   "source": [
    "## Beispielrechnung von E(V) mit fester Spielsituation\n",
    "\n",
    "Zunächst berechnen wir den Erwartungswert für eine einfache Spielsituation, um damit das zugrundeliegende Prinzip zu entdecken.\n",
    "\n",
    "### 🧮 Beispiel: Berechnung von $E(1, 1, 0)$\n",
    "\n",
    "Gegeben seien die Wahrscheinlichkeiten:\n",
    "\n",
    "- $p_1 = \\frac{1}{2}$, $p_2 = \\frac{1}{3}$, $p_3 = \\frac{1}{6}$\n",
    "\n",
    "und die Spielsituation $V = (1, 1, 0)$, d.h. es liegt je ein Chip auf Feld 1 und 2, kein Chip auf Feld 3.\n",
    "\n",
    "Zunächst: Was kann bei einem Wurf passieren?\n",
    "\n",
    "- Mit Wahrscheinlichkeit $p_1$ trifft man Feld 1 ⇒ es bleibt $(0,1,0)$\n",
    "- Mit Wahrscheinlichkeit $p_2$ trifft man Feld 2 ⇒ es bleibt $(1,0,0)$\n",
    "- Mit Wahrscheinlichkeit $p_3$ trifft man Feld 3 ⇒ nichts passiert (da leer)\n",
    "\n",
    "Daher ergibt sich die folgende Gleichung:\n",
    "\n",
    "$$\n",
    "E(1,1,0) = 1+p_1 \\cdot E(0,1,0) + p_2 \\cdot E(1,0,0) + p_3 \\cdot E(1,1,0).\n",
    "$$\n",
    "\n",
    "Wir sehen: Der gesuchte Erwartungswert kommt auf beiden Seiten der Gleichung vor!  \n",
    "Das liegt daran, dass **mit Wahrscheinlichkeit $p_3$ überhaupt nichts passiert** – wir müssen also **noch einmal würfeln**.\n",
    "\n",
    "Diese Gleichung lässt sich nach $E(1,1,0)$ auflösen:\n",
    "\n",
    "$$\n",
    "E(1,1,0) \\cdot (1 - p_3) = 1+p_1 \\cdot E(0,1,0) + p_2 \\cdot E(1,0,0)\n",
    "$$\n",
    "\n",
    "Dividiert man durch $1 - p_3 = p_1 + p_2$, erhält man:\n",
    "\n",
    "$$\n",
    "E(1,1,0) = \\frac{1+p_1 \\cdot E(0,1,0) + p_2 \\cdot E(1,0,0)}{p_1 + p_2}\n",
    "$$\n",
    "\n",
    "$E(0,1,0)$ und $E(1,0,0)$ müssen nun nach dem gleichen Prinzip berechnet werden.\n",
    "\n",
    "$$\n",
    "E(0,1,0) = 1+p_1 \\cdot E(0,1,0) + p_2 \\cdot E(0,0,0) + p_3 \\cdot E(0,1,0)\n",
    "$$\n",
    "\n",
    "Damit folgt:\n",
    "\n",
    "$$\n",
    "E(0,1,0)(1-p_1-p_3) = 1+p_2 \\cdot E(0,0,0).\n",
    "$$\n",
    "\n",
    "Mit $E(0,0,0)=0$ und $p_2=\\frac{1}{3}$ ergibt sich \n",
    "\n",
    "$$\n",
    "E(0,1,0)=\\frac{1}{p_2}=3\n",
    "$$\n",
    "\n",
    "Eine entsprechende Berechnung für $E(1,0,0)$ liefert \n",
    "\n",
    "$$\n",
    "E(1,0,0)=\\frac{1}{p_1}=2\n",
    "$$\n",
    "\n",
    "Zusammengefasst ergibt sich\n",
    "$$ \n",
    "E(1,1,0)=\\frac{1+\\frac{1}{2}\\cdot 3+\\frac{1}{3}\\cdot 2}{\\frac{5}{6}}=\\frac{19}{5}\n",
    "$$\n",
    "\n",
    "---\n",
    "\n",
    "### 🎯 Verallgemeinerung: Rekursive Definition von $ E(V) $\n",
    "\n",
    "Wir betrachten eine Spielsituation $ V = (v_1, \\dots, v_m) $, in der ein Spieler Chips auf $m$  Felder verteilt hat. In jedem Wurf wird mit Wahrscheinlichkeit $p_j$ das Feld $j$ getroffen. Liegt dort mindestens ein Chip, wird er entfernt.\n",
    "\n",
    "Die erwartete Anzahl an Würfen $E(V)$, bis alle Chips abgeräumt sind, erfüllt die folgende rekursive Beziehung:\n",
    "\n",
    "$$\n",
    "E(V) =\n",
    "\\begin{cases}\n",
    "0, & \\text{falls } V = (0, \\dots, 0) \\\\\n",
    "\\displaystyle{\\frac{1}{s} + \\frac{1}{s}\\sum_{j=1}^m q_j \\cdot E(V - e_j)}, & \\text{sonst}\n",
    "\\end{cases}\n",
    "$$\n",
    "\n",
    "Dabei gilt:\n",
    "- $ \\mathbf{1}_{\\{v_j > 0\\}} $ ist die Indikatorfunktion, die prüft, ob auf Feld $j$ noch ein Chip liegt.\n",
    "- $ q_j := p_j \\cdot \\mathbf{1}_{\\{v_j > 0\\}}$ liefert die Wahrscheinlichkeit $p_j$, falls auf dem $j$-ten Feld mindestens ein Chip liegt,\n",
    "- $s := \\sum_{j=1}^m q_j$ ist die Gesamtwahrscheinlichkeit, dass ein Wurf überhaupt etwas bewirkt.\n",
    "- $ V - e_j $ bezeichnet die Spielsituation nach einem Treffer auf Feld $j$.\n",
    "\n",
    "\n",
    "---\n",
    "\n",
    "**Bemerkung:**  \n",
    "Diese Betrachtung ist ein Beispiel für einen **bedingten Erwartungswert**:  \n",
    "\n",
    "Wir berechnen den Mittelwert **unter der Bedingung**, dass der Wurf überhaupt etwas verändert.\n",
    "Dies zeigt bereits, wie die Formel rekursiv auf einfachere Situationen zurückgreift.\n",
    "\n",
    "---\n",
    "\n",
    "## 🔁 Experimentiere selbst\n",
    "\n",
    "Hier kannst du eigene Wahrscheinlichkeiten und Verteilungen ausprobieren.\n",
    "\n",
    "---"
   ]
  },
  {
   "cell_type": "code",
   "execution_count": 7,
   "id": "fc47088d-80de-445e-a52d-c86bab80e187",
   "metadata": {},
   "outputs": [
    {
     "name": "stdin",
     "output_type": "stream",
     "text": [
      "Anzahl der Felder (z. B. 3):  3\n"
     ]
    },
    {
     "name": "stdout",
     "output_type": "stream",
     "text": [
      "Gib 3 Wahrscheinlichkeiten als Brüche ein (z. B. 1/2):\n"
     ]
    },
    {
     "name": "stdin",
     "output_type": "stream",
     "text": [
      "p_1 =  1/2\n",
      "p_2 =  1/3\n",
      "p_3 =  1/6\n"
     ]
    },
    {
     "name": "stdout",
     "output_type": "stream",
     "text": [
      "Gib 3 Chipzahlen (getrennt durch Leerzeichen) ein:\n"
     ]
    },
    {
     "name": "stdin",
     "output_type": "stream",
     "text": [
      "V =  3 2 1\n"
     ]
    },
    {
     "name": "stdout",
     "output_type": "stream",
     "text": [
      "\n",
      "Erwartungswert E(3, 2, 1) = 596291/60000 ≈ 9.93818\n"
     ]
    }
   ],
   "source": [
    "from fractions import Fraction\n",
    "from functools import lru_cache\n",
    "\n",
    "# Eingabe: Anzahl der Felder\n",
    "m = int(input(\"Anzahl der Felder (z. B. 3): \"))\n",
    "\n",
    "# Eingabe: Wahrscheinlichkeiten als Brüche\n",
    "print(f\"Gib {m} Wahrscheinlichkeiten als Brüche ein (z. B. 1/2):\")\n",
    "p = [Fraction(input(f\"p_{i+1} = \")) for i in range(m)]\n",
    "\n",
    "# Normierung der Wahrscheinlichkeiten (optional)\n",
    "if sum(p) != 1:\n",
    "    print(\"Hinweis: Wahrscheinlichkeiten wurden normalisiert.\")\n",
    "    p = [x / sum(p) for x in p]\n",
    "\n",
    "# Eingabe: Verteilung der Chips\n",
    "print(f\"Gib {m} Chipzahlen (getrennt durch Leerzeichen) ein:\")\n",
    "V = tuple(map(int, input(\"V = \").split()))\n",
    "\n",
    "# Rekursive Funktion \n",
    "@lru_cache(maxsize=None)\n",
    "def expected_value(V, p):\n",
    "    if all(v == 0 for v in V):\n",
    "        return Fraction(0)\n",
    "    total = Fraction(0)\n",
    "    s = Fraction(0)\n",
    "    for j, vj in enumerate(V):\n",
    "        if vj > 0:\n",
    "            Vj = list(V)\n",
    "            Vj[j] -= 1\n",
    "            total += p[j] * expected_value(tuple(Vj), p)\n",
    "            s += p[j]\n",
    "    return 1/s + total/s\n",
    "\n",
    "# Berechnung\n",
    "ev_exact = expected_value(V, tuple(p))\n",
    "ev_float = float(ev_exact)\n",
    "\n",
    "# Ausgabe\n",
    "print(f\"\\nErwartungswert E{V} = {ev_exact} ≈ {ev_float:.5f}\")"
   ]
  },
  {
   "cell_type": "code",
   "execution_count": null,
   "id": "42baf613-eb1e-458c-a837-c2eec30770b2",
   "metadata": {},
   "outputs": [],
   "source": []
  }
 ],
 "metadata": {
  "kernelspec": {
   "display_name": "Python 3 (ipykernel)",
   "language": "python",
   "name": "python3"
  },
  "language_info": {
   "codemirror_mode": {
    "name": "ipython",
    "version": 3
   },
   "file_extension": ".py",
   "mimetype": "text/x-python",
   "name": "python",
   "nbconvert_exporter": "python",
   "pygments_lexer": "ipython3",
   "version": "3.9.7"
  }
 },
 "nbformat": 4,
 "nbformat_minor": 5
}
