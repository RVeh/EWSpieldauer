{
 "cells": [
  {
   "cell_type": "markdown",
   "id": "76ffd7cb-92c0-4ed3-bd4e-335944611f5b",
   "metadata": {},
   "source": [
    "# 📊 Erwartungswerte $\\mathbb{E}(V)$ für alle Setzstrategien mit $n$ Chips\n",
    "\n",
    "In diesem Notebook werden alle möglichen Strategien $V = (v_1, \\dots, v_m)$ mit fester Chipanzahl $n$ systematisch untersucht.\n",
    "\n",
    "Für jede Setzstrategie $V$ wird der Erwartungswert $\\mathbb{E}(V)$ berechnet:  \n",
    "> die **erwartete Anzahl an Würfen**, um alle Chips vollständig abzuräumen.\n",
    "\n",
    "---\n",
    "\n",
    "## 🔢 Was passiert hier?\n",
    "\n",
    "- Die Wahrscheinlichkeiten $p = (p_1, \\dots, p_m)$ legen fest, mit welcher Wahrscheinlichkeit ein Feld getroffen wird.\n",
    "- Die Anzahl $n$ bestimmt, wie viele Chips insgesamt verteilt werden.\n",
    "- Alle gültigen Setzstrategien $V$ mit $\\sum v_j = n$ werden erzeugt.\n",
    "- Zu jeder Setzstrategie $V$ wird $\\mathbb{E}(V)$ exakt berechnet.\n",
    "- Die Ergebnisse werden als Tabelle (CSV) gespeichert und als Plot dargestellt.\n",
    "\n",
    "---\n",
    "\n",
    "## ⚠️ Hinweis zur Eingabe\n",
    "\n",
    "- Die Wahrscheinlichkeiten $p_j$ sollten sich **zu 1 summieren**.\n",
    "- Andernfalls erscheint eine **Warnung**, es wird aber trotzdem gerechnet.\n"
   ]
  },
  {
   "cell_type": "code",
   "execution_count": 31,
   "id": "ce5d5dfb-1712-476a-9dab-35e96bcd58c3",
   "metadata": {},
   "outputs": [
    {
     "name": "stdout",
     "output_type": "stream",
     "text": [
      "\n",
      "Anzahl der Verteilungen: 28\n",
      "\n"
     ]
    },
    {
     "data": {
      "image/png": "[encoded data removed]",
      "text/plain": [
       "<Figure size 432x216 with 1 Axes>"
      ]
     },
     "metadata": {
      "needs_background": "light"
     },
     "output_type": "display_data"
    }
   ],
   "source": [
    "# Programm zur Berechhnung von aller Setzstrategien\n",
    "\n",
    "from chipspiel_utils import (\n",
    "    expected_one, alle_verteilungen,\n",
    "    alle_EVs, speichere_csv, plot_EVs\n",
    ")\n",
    "from fractions import Fraction\n",
    "\n",
    "# Eingabe\n",
    "p = [Fraction(1, 2), Fraction(1, 3), Fraction(1, 6)]\n",
    "n = 6   # Anzahl an Chips\n",
    "\n",
    "\n",
    "# Berechnungen und Ausgaben\n",
    "werte = alle_EVs(p, len(p), n)\n",
    "print(f\"\\nAnzahl der Verteilungen: {len(werte)}\\n\")\n",
    "speichere_csv(werte, \"evs.csv\")\n",
    "plot_EVs(werte, \"Erwartungswerte\", \"evs_plot.pdf\",tick_abstand=10,zeige_plot=True)\n",
    "\n",
    "if sum(p) != 1:\n",
    "    print(\"⚠️  Wahrscheinlichkeiten summieren sich nicht zu 1.\")"
   ]
  },
  {
   "cell_type": "markdown",
   "id": "5ca3ed61-6f17-4de6-b854-da6d83d0f7f0",
   "metadata": {},
   "source": [
    "---\n",
    "\n",
    "## 🎒 Vertiefung 1\n",
    "\n",
    "Untersuchen Sie den Einfluss der Wahrscheinlichkeitsverteilung auf die Erwartungswerte:\n",
    "\n",
    "📝 **Aufgabe:**\n",
    "> Erzeugen Sie für  \n",
    "> $p_1 = p_2 = p_3 = \\frac{1}{3}$  \n",
    "> und $n = 3$ die zugehörige Grafik aller $\\mathbb{E}(V)$.\n",
    "\n",
    "### 💡 Fragen zur Diskussion:\n",
    "\n",
    "- Welche Setzstrategie $V$ hat den kleinsten Erwartungswert?\n",
    "- Gibt es Setzstrategie mit gleichem $\\mathbb{E}(V)$?\n",
    "- Was fällt Ihnen an der Struktur des Plots auf?\n",
    "\n",
    "---\n",
    "\n",
    "## 🧩 Vertiefung 2\n",
    "\n",
    "Es gibt eine Formel, mit der man die **Anzahl aller Setzstrategien** berechnen kann –  \n",
    "also wie viele mögliche Chipverteilungen $V$ es für eine gegebene Anzahl an Feldern $m$  \n",
    "und eine feste Chipanzahl $n$ gibt.\n",
    "\n",
    "Diese Zahl ist unabhängig von den Wahrscheinlichkeiten und hängt nur von $m$ und $n$ ab.\n",
    "\n",
    "> 🧠 Tipp: Man kann alle Kombinationen berechnen, bei denen die Summe der Chips $n$ ergibt.\n",
    "\n",
    "---\n",
    "\n",
    "## 📐 Vorschau: Ein wunderschöner Beweis\n",
    "\n",
    "Im Folgenden wird ein eleganter Beweis gezeigt, der genau diese Anzahl beschreibt –  \n",
    "mithilfe eines einfachen, aber genialen Tricks:\n",
    "\n",
    "$$\n",
    "\\text{Anzahl der Verteilungen} = \\binom{n + m - 1}{m - 1}\n",
    "$$\n",
    "\n",
    "Dieser sogenannte **Sterne-Strich-Beweis** ist nicht nur korrekt, sondern auch überraschend anschaulich.\n",
    "\n",
    "---\n",
    "\n",
    "\n",
    "---\n"
   ]
  },
  {
   "cell_type": "markdown",
   "id": "f135535a-53d9-4c27-b362-76ab47d562d5",
   "metadata": {},
   "source": [
    "## 🌟  Der Sterne-Strich-Beweis (Vertiefung 2)\n",
    "\n",
    "Wie viele Möglichkeiten gibt es, $n$ Chips auf $m$ Felder zu verteilen –  \n",
    "ohne negative Zahlen und **mit beliebiger Verteilung**?\n",
    "\n",
    "Wir suchen die Anzahl aller **nichtnegativen ganzzahligen Lösungen** der Gleichung:\n",
    "\n",
    "$$\n",
    "v_1 + v_2 + \\dots + v_m = n\n",
    "$$\n",
    "\n",
    "Jede solche Lösung entspricht genau einer **gültigen Chipverteilung** $V = (v_1, \\dots, v_m)$  \n",
    "mit $\\sum v_j = n$.\n",
    "\n",
    "---\n",
    "\n",
    "### 💡 Idee: Sterne und Trennstriche\n",
    "\n",
    "Wir stellen $n$ Chips als **Sterne** ★ dar  \n",
    "und trennen sie mit **Strichen** │ in $m$ Felder auf.\n",
    "\n",
    "Zum Beispiel für $n = 5$, $m = 3$:\n",
    "\n",
    "★★│★│★★ → (2,1,2)"
   ]
  },
  {
   "cell_type": "markdown",
   "id": "7a09c6a8-71af-4a67-821c-feb0ff21391e",
   "metadata": {},
   "source": [
    "\n",
    "Jede Anordnung aus $n$ Sternen und $m - 1$ Trennstrichen entspricht genau **einer Chipverteilung**.\n",
    "\n",
    "---\n",
    "\n",
    "### 🧮 Anzahl aller solcher Anordnungen\n",
    "\n",
    "Insgesamt müssen wir $n + m - 1$ Positionen füllen:  \n",
    "- $n$ Positionen mit Sternen  \n",
    "- $m - 1$ mit Trennstrichen\n",
    "\n",
    "Die Anzahl aller möglichen Anordnungen ist daher:\n",
    "\n",
    "$$\n",
    "\\binom{n + m - 1}{m - 1}\n",
    "$$\n",
    "\n",
    "---\n",
    "\n",
    "### 🧠 Fazit\n",
    "\n",
    "Für jedes $m$ und $n$ ergibt sich so sofort die Anzahl aller Setzstrategien.\n",
    "\n",
    "Beispiel:  \n",
    "Für $m = 3$, $n = 6$ gilt:\n",
    "\n",
    "$$\n",
    "\\binom{6 + 3 - 1}{3 - 1} = \\binom{8}{2} = 28\n",
    "$$\n",
    "\n",
    "✅ Diese Zahl passt genau zur Anzahl der Einträge in der Plot-Tabelle!\n",
    "\n",
    "---\n"
   ]
  }
 ],
 "metadata": {
  "kernelspec": {
   "display_name": "Python 3 (ipykernel)",
   "language": "python",
   "name": "python3"
  },
  "language_info": {
   "codemirror_mode": {
    "name": "ipython",
    "version": 3
   },
   "file_extension": ".py",
   "mimetype": "text/x-python",
   "name": "python",
   "nbconvert_exporter": "python",
   "pygments_lexer": "ipython3",
   "version": "3.9.7"
  }
 },
 "nbformat": 4,
 "nbformat_minor": 5
}
